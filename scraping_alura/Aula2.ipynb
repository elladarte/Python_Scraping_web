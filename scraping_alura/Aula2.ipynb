{
 "cells": [
  {
   "cell_type": "markdown",
   "metadata": {},
   "source": [
    "---\n",
    "# <font color=green>2. OBTENDO E TRATANDO O CONTEÚDO DE UM HTML"
   ]
  },
  {
   "cell_type": "markdown",
   "metadata": {},
   "source": [
    "# 2.1. Entendendo a web"
   ]
  },
  {
   "cell_type": "markdown",
   "metadata": {},
   "source": [
    "<img src=\"./web/web.png\" width=\"700\">"
   ]
  },
  {
   "cell_type": "markdown",
   "metadata": {},
   "source": [
    "# 2.2. Obtendo o conteúdo HTML de um site"
   ]
  },
  {
   "cell_type": "markdown",
   "metadata": {},
   "source": [
    "# urllib.request\n",
    "## https://docs.python.org/3/library/urllib.html"
   ]
  },
  {
   "cell_type": "code",
   "execution_count": 1,
   "metadata": {
    "colab": {
     "base_uri": "https://localhost:8080/",
     "height": 54
    },
    "colab_type": "code",
    "id": "c1pKGnTpgvFU",
    "outputId": "b6b7e32d-4c3e-4f52-a8ba-0b1cbfe15ea4"
   },
   "outputs": [],
   "source": [
    "from urllib.request import urlopen\n",
    "from bs4 import BeautifulSoup\n",
    "\n",
    "url = 'https://alura-site-scraping.herokuapp.com/hello-world.php'\n",
    "\n",
    "response = urlopen(url)\n",
    "html = response.read()"
   ]
  },
  {
   "cell_type": "code",
   "execution_count": 2,
   "metadata": {},
   "outputs": [
    {
     "output_type": "execute_result",
     "data": {
      "text/plain": [
       "b'<!DOCTYPE html>\\r\\n<html lang=\"pt-br\">\\r\\n<head>\\r\\n    <meta charset=\"utf-8\">\\r\\n    <meta name=\"viewport\" content=\"width=device-width, initial-scale=1, shrink-to-fit=no\">\\r\\n\\r\\n    <title>Alura Motors</title>\\r\\n\\t<link rel=\"stylesheet\" href=\"https://maxcdn.bootstrapcdn.com/bootstrap/3.3.7/css/bootstrap.min.css\" integrity=\"sha384-BVYiiSIFeK1dGmJRAkycuHAHRg32OmUcww7on3RYdg4Va+PmSTsz/K68vbdEjh4u\" crossorigin=\"anonymous\">\\r\\n\\t<link rel=\"stylesheet\" href=\"css/styles.css\" media=\"all\">\\r\\n\\r\\n\\t<script src=\"https://code.jquery.com/jquery-1.12.4.js\"></script>\\r\\n\\t<script src=\"https://maxcdn.bootstrapcdn.com/bootstrap/3.3.7/js/bootstrap.min.js\" integrity=\"sha384-Tc5IQib027qvyjSMfHjOMaLkfuWVxZxUPnCJA7l2mCWNIpG9mGCD8wGNIcPD7Txa\" crossorigin=\"anonymous\"></script>\\r\\n\\t<script type=\"text/javascript\" src=\"js/index.js\"></script>\\r\\n\\r\\n</head>\\r\\n<body cz-shortcut-listen=\"true\">\\r\\n    <noscript>You need to enable JavaScript to run this app.</noscript>\\r\\n\\r\\n    <div id=\"root\">\\r\\n        <header>\\r\\n            <nav class=\"navbar navbar-inverse\" style=\"margin-bottom: 0;\">\\r\\n                <div class=\"container\" style=\"margin-bottom: -20px;\">\\r\\n                    <div class=\"navbar\">\\r\\n                        <a href=\"./index.php\" class=\"navbar-brand\" title=\"Alura Motors\">\\r\\n                            <img src=\"img/alura-logo.svg\" class=\"d-inline-block align-top\" alt=\"Alura\">Motors\\r\\n                        </a>\\r\\n                        <ul class=\"nav navbar-nav\" style=\"margin-top: 35px;\">\\r\\n                            <li><a href=\"./hello-world.php\">Hello World</a></li>\\r\\n                            <li><a href=\"./index.php\">An\\xc3\\xbancios</a></li>\\r\\n                        </ul>\\r\\n                    </div>\\r\\n                </div>\\r\\n            </nav>\\r\\n        </header>\\r\\n\\r\\n\\t\\t<div class=\"container\">\\r\\n\\t\\t\\t<h1 class=\"sub-header\">Curso de Web Scraping</h1>\\r\\n\\t\\t\\t<div class=\"row\">\\r\\n\\t\\t\\t\\t<div class=\"col-md-12\">\\r\\n\\t\\t\\t\\t\\t<div class=\"container\" style=\"width: 100%;\">\\r\\n                <h1 id=\"hello-world\">Hello World!!!</h1>\\r\\n                <p class=\"definition\"><b>Web Scraping</b> \\xc3\\xa9 o termo utilizado para definir a pr\\xc3\\xa1tica de coletar automaticamente informa\\xc3\\xa7\\xc3\\xb5es na Internet. Isto \\xc3\\xa9 feito, geralmente, por meio de programas que simulam a navega\\xc3\\xa7\\xc3\\xa3o humana na Web.</p>\\r\\n\\t\\t\\t\\t\\t</div>\\r\\n\\t\\t\\t\\t</div>\\r\\n\\t\\t\\t</div>\\r\\n\\t\\t</div>\\r\\n\\r\\n\\t\\t<footer id=\"footer\">\\r\\n\\t\\t\\t<nav class=\"navbar navbar-inverse\">\\r\\n\\t\\t\\t\\t<div class=\"container\" style=\"margin-bottom: 10px;\">\\r\\n\\t\\t\\t\\t\\t<div class=\"navbar\">\\r\\n\\t\\t\\t\\t\\t\\t<a href=\"./index.php\" class=\"navbar-brand\" title=\"Alura Motors\">\\r\\n\\t\\t\\t\\t\\t\\t\\t<img src=\"img/alura-logo.svg\" class=\"d-inline-block align-top\" alt=\"Alura\">Motors\\r\\n\\t\\t\\t\\t\\t\\t</a>\\r\\n\\t\\t\\t\\t\\t\\t<p style=\"color: #fff; text-align: center; margin-top: 40px;\">Aplica\\xc3\\xa7\\xc3\\xa3o para treinamento de web scraping</p>\\r\\n\\t\\t\\t\\t\\t</div>\\r\\n\\t\\t\\t\\t</div>\\r\\n\\t\\t\\t</nav>\\r\\n   </footer>\\r\\n\\r\\n\\t</div>\\r\\n\\r\\n</body>\\r\\n</html>\\r\\n'"
      ]
     },
     "metadata": {},
     "execution_count": 2
    }
   ],
   "source": [
    "html"
   ]
  },
  {
   "cell_type": "markdown",
   "metadata": {},
   "source": [
    "## https://docs.python.org/3/library/urllib.request.html#urllib.request.Request"
   ]
  },
  {
   "cell_type": "code",
   "execution_count": 3,
   "metadata": {
    "tags": [
     "outputPrepend"
    ]
   },
   "outputs": [
    {
     "output_type": "stream",
     "name": "stdout",
     "text": [
      "r-info\"><div\\nclass=\"footer-logos\">\\n<a\\nclass=\"footer-logos-home\" gtm-data=\\'footer_primeira_secao_050\\' href=\"/\">\\n<img\\nsrc=\"/assets/img/home/alura-logo.1570550707.svg\" alt=\"Alura\" class=\"footer-logo\">\\n</a></div><div\\nclass=\"footer-card-hotLinks social-desktop\"><h2 class=\"footer-card-hotLinks-titulo\">Nossas redes e apps</h2><div\\nclass=\"footer-card-hotLinks-info footer-card-redes\">\\n<a\\nhref=\"https://www.youtube.com/alura\" gtm-data=\\'footer_primeira_secao_065\\' class=\"footer-card-hotLinks-link\" target=\"_blank\" title=\"YouTube da Alura\">\\n<svg\\nclass=\"footer-card-hotLinks-icon footer-card-hotLinks-youtube\"><use\\nxlink:href=\"/svg,1606865286/footer#icon-footer-youtube\"/></svg>\\n<span>YouTube</span>\\n</a>\\n<a\\nhref=\"https://www.facebook.com/AluraCursosOnline/\" gtm-data=\\'footer_primeira_secao_066\\' class=\"footer-card-hotLinks-link\" target=\"_blank\" title=\"Facebook da Alura\">\\n<svg\\nclass=\"footer-card-hotLinks-icon footer-card-hotLinks-facebook\"><use\\nxlink:href=\"/svg,1606865286/footer#icon-footer-facebook\"/></svg>\\n<span>Facebook</span>\\n</a>\\n<a\\nhref=\"https://twitter.com/aluraonline\" gtm-data=\\'footer_primeira_secao_067\\' class=\"footer-card-hotLinks-link\" target=\"_blank\" title=\"Twitter da Alura\">\\n<svg\\nclass=\"footer-card-hotLinks-icon footer-card-hotLinks-twitter\"><use\\nxlink:href=\"/svg,1606865286/footer#icon-footer-twitter\"/></svg>\\n<span>Twitter</span>\\n</a>\\n<a\\nhref=\"https://instagram.com/aluraonline\" class=\"footer-card-hotLinks-link\" gtm-data=\\'footer_primeira_secao_073\\' target=\"_blank\" title=\"Instagram da Alura\">\\n<svg\\nclass=\"footer-card-hotLinks-icon footer-card-hotLinks-instagram\"><use\\nxlink:href=\"/svg,1606865286/footer#icon-footer-instagram\"/></svg>\\n<span>Instagram</span>\\n</a></div><div\\nclass=\"footer-card-hotLinks-info footer-card-mobile\">\\n<a\\nhref=\"https://play.google.com/store/apps/details?id=br.com.alura.mobi&hl=pt_BR\" gtm-data=\\'footer_primeira_secao_069\\' class=\"footer-card-hotLinks-link\" target=\"_blank\" title=\"Baixar na Google Play Store\">\\n<svg\\nclass=\"footer-card-hotLinks-icon footer-card-hotLinks-mobile\"><use\\nxlink:href=\"/svg,1606865286/footer#icon-footer-googleplay\"/></svg>\\n<span>Google Play Store</span>\\n</a>\\n<a\\nhref=\"https://itunes.apple.com/br/app/alura-cursos-online/id1225776635\" gtm-data=\\'footer_primeira_secao_070\\' class=\"footer-card-hotLinks-link\" target=\"_blank\" title=\"Baixar na AppStore\">\\n<svg\\nclass=\"footer-card-hotLinks-icon footer-card-hotLinks-mobile\"><use\\nxlink:href=\"/svg,1606865286/footer#icon-footer-appstore\"/></svg>\\n<span>AppStore</span>\\n</a></div></div></div></div></footer><section\\nclass=\"footer_categorias-formacoes\"><div\\nclass=\"container\"><div\\nclass=\"footer_categorias_wrapper\"><h2 class=\"footer_categorias_title\">Cursos</h2><div\\nclass=\"footer_categorias_categorias footer-navegue-lista-link\"><div\\nclass=\"footer_categorias_categoria\">\\n<a\\nhref=\"/cursos-online-mobile\">Cursos de Mobile</a><div\\nclass=\"footer_categorias_subcategorias\">\\n<a\\nhref=\"/cursos-online-mobile/multiplataforma\">\\nFlutter, React Native                                        |                                    </a>\\n<a\\nhref=\"/cursos-online-mobile/ios\">\\niOS e Swift                                        |                                    </a>\\n<a\\nhref=\"/cursos-online-mobile/android\">\\nAndroid, Kotlin                                        |                                    </a>\\n<a\\nhref=\"/cursos-online-mobile/jogos\">\\nJogos                                                                            </a></div></div><div\\nclass=\"footer_categorias_categoria\">\\n<a\\nhref=\"/cursos-online-programacao\">Cursos de Programa\\xc3\\xa7\\xc3\\xa3o</a><div\\nclass=\"footer_categorias_subcategorias\">\\n<a\\nhref=\"/cursos-online-programacao/logica\">\\nL\\xc3\\xb3gica                                        |                                    </a>\\n<a\\nhref=\"/cursos-online-programacao/python\">\\nPython                                        |                                    </a>\\n<a\\nhref=\"/cursos-online-programacao/php\">\\nPHP                                        |                                    </a>\\n<a\\nhref=\"/cursos-online-programacao/java\">\\nJava                                        |                                    </a>\\n<a\\nhref=\"/cursos-online-programacao/dotnet\">\\n.NET                                        |                                    </a>\\n<a\\nhref=\"/cursos-online-programacao/node-js\">\\nNode JS                                        |                                    </a>\\n<a\\nhref=\"/cursos-online-programacao/ruby\">\\nRuby & Rails                                        |                                    </a>\\n<a\\nhref=\"/cursos-online-programacao/linguagem-c\">\\nC                                        |                                    </a>\\n<a\\nhref=\"/cursos-online-programacao/computacao\">\\nComputa\\xc3\\xa7\\xc3\\xa3o                                        |                                    </a>\\n<a\\nhref=\"/cursos-online-programacao/jogos\">\\nJogos                                                                            </a></div></div><div\\nclass=\"footer_categorias_categoria\">\\n<a\\nhref=\"/cursos-online-front-end\">Cursos de Front-end</a><div\\nclass=\"footer_categorias_subcategorias\">\\n<a\\nhref=\"/cursos-online-front-end/front-end\">\\nHTML, CSS                                        |                                    </a>\\n<a\\nhref=\"/cursos-online-front-end/reactjs\">\\nReact                                        |                                    </a>\\n<a\\nhref=\"/cursos-online-front-end/angular\">\\nAngular                                        |                                    </a>\\n<a\\nhref=\"/cursos-online-front-end/javascript\">\\nJavaScript                                        |                                    </a>\\n<a\\nhref=\"/cursos-online-front-end/jquery\">\\njQuery                                                                            </a></div></div><div\\nclass=\"footer_categorias_categoria\">\\n<a\\nhref=\"/cursos-online-devops\">Cursos de DevOps</a><div\\nclass=\"footer_categorias_subcategorias\">\\n<a\\nhref=\"/cursos-online-devops/seguranca\">\\nSeguran\\xc3\\xa7a                                        |                                    </a>\\n<a\\nhref=\"/cursos-online-devops/cloud-computing\">\\nCloud                                        |                                    </a>\\n<a\\nhref=\"/cursos-online-devops/linux-comandos-e-processos\">\\nLinux                                        |                                    </a>\\n<a\\nhref=\"/cursos-online-devops/internet-das-coisas\">\\nIoT                                        |                                    </a>\\n<a\\nhref=\"/cursos-online-devops/redes\">\\nRedes                                                                            </a></div></div><div\\nclass=\"footer_categorias_categoria\">\\n<a\\nhref=\"/cursos-online-design-ux\">Cursos de Design & UX</a><div\\nclass=\"footer_categorias_subcategorias\">\\n<a\\nhref=\"/cursos-online-design-ux/wwww\">\\nPhotoshop e Illustrator                                        |                                    </a>\\n<a\\nhref=\"/cursos-online-design-ux/ux\">\\nUsabilidade e UX                                        |                                    </a>\\n<a\\nhref=\"/cursos-online-design-ux/video\">\\nV\\xc3\\xaddeo e Motion                                        |                                    </a>\\n<a\\nhref=\"/cursos-online-design-ux/3d\">\\n3D                                                                            </a></div></div><div\\nclass=\"footer_categorias_categoria\">\\n<a\\nhref=\"/cursos-online-marketing-digital\">Cursos de Marketing Digital</a><div\\nclass=\"footer_categorias_subcategorias\">\\n<a\\nhref=\"/cursos-online-marketing-digital/ads\">\\nAds                                        |                                    </a>\\n<a\\nhref=\"/cursos-online-marketing-digital/marketing-digital\">\\nMarketing                                        |                                    </a>\\n<a\\nhref=\"/cursos-online-marketing-digital/seo\">\\nSEO                                        |                                    </a>\\n<a\\nhref=\"/cursos-online-marketing-digital/e-commerce\">\\nE-commerce                                        |                                    </a>\\n<a\\nhref=\"/cursos-online-marketing-digital/social-media\">\\nSocial Media                                        |                                    </a>\\n<a\\nhref=\"/cursos-online-marketing-digital/youtube\">\\nYouTube                                                                            </a></div></div><div\\nclass=\"footer_categorias_categoria\">\\n<a\\nhref=\"/cursos-online-data-science\">Cursos de Data Science</a><div\\nclass=\"footer_categorias_subcategorias\">\\n<a\\nhref=\"/cursos-online-data-science/sql\">\\nSQL e Banco de Dados                                        |                                    </a>\\n<a\\nhref=\"/cursos-online-data-science/nosql\">\\nNoSQL                                        |                                    </a>\\n<a\\nhref=\"/cursos-online-data-science/data-science\">\\nData Science                                        |                                    </a>\\n<a\\nhref=\"/cursos-online-data-science/machine-learning\">\\nMachine Learning                                        |                                    </a>\\n<a\\nhref=\"/cursos-online-data-science/business-intelligence\">\\nBI                                        |                                    </a>\\n<a\\nhref=\"/cursos-online-data-science/estatistica\">\\nEstat\\xc3\\xadstica                                        |                                    </a>\\n<a\\nhref=\"/cursos-online-data-science/excel\">\\nExcel                                                                            </a></div></div><div\\nclass=\"footer_categorias_categoria\">\\n<a\\nhref=\"/cursos-online-inovacao-gestao\">Cursos de Inova\\xc3\\xa7\\xc3\\xa3o & Gest\\xc3\\xa3o</a><div\\nclass=\"footer_categorias_subcategorias\">\\n<a\\nhref=\"/cursos-online-inovacao-gestao/agilidade\">\\nM\\xc3\\xa9todos \\xc3\\x81geis                                        |                                    </a>\\n<a\\nhref=\"/cursos-online-inovacao-gestao/softskills-carreira\">\\nSoftskills                                        |                                    </a>\\n<a\\nhref=\"/cursos-online-inovacao-gestao/gestao-corporativa\">\\nLideran\\xc3\\xa7a e Gest\\xc3\\xa3o                                        |                                    </a>\\n<a\\nhref=\"/cursos-online-inovacao-gestao/startup-empreendedorismo\">\\nStartups                                        |                                    </a>\\n<a\\nhref=\"/cursos-online-inovacao-gestao/vendas\">\\nVendas                                                                            </a></div></div></div></div></div></section><style>@media not all and (min-width: 1000px){\\n\\t\\t.grupoCaelum{\\n\\t\\t\\tdisplay: none;\\n\\t\\t}\\n\\t}\\n\\n\\t.grupoCaelum{\\n\\t\\tbackground: #fff;\\n\\t\\theight: 240px;\\n\\t\\tborder-top: 1px solid #EBEBEE;\\n\\t}\\n\\n\\t.grupoCaelum .container{\\n\\t\\tdisplay: flex;\\n\\t\\tjustify-content: space-between;\\n\\t\\talign-items: flex-start;\\n\\t\\tpadding-top: 0;\\n\\t\\tpadding-bottom: 0;\\n\\t\\theight: 100%;\\n\\t}\\n\\n\\t\\t.grupoCaelum-list{\\n\\t\\t\\tdisplay: flex;\\n\\t\\t\\tlist-style: none;\\n\\t\\t\\twidth: 60%;\\n\\t\\t\\tjustify-content: space-between;\\n\\t\\t\\talign-items: flex-start;\\n\\t\\t\\tmargin-top: 20px;\\n\\t\\t}\\n\\n\\t\\t.grupoCaelum-title{\\n\\t\\t\\twidth: 20%;\\n\\t\\t}\\n\\n\\t\\t.grupoCaelum-column {\\n\\t\\t\\tdisplay: inline-block;\\n\\t\\t\\tpadding-left: 19px;\\n\\t\\t\\twidth: 240px;\\n\\t\\t\\theight: 210px;\\n\\t\\t\\tmin-width: 160px;\\n\\t\\t}\\n\\t\\t\\t.grupoCaelum-column-title {\\n\\t\\t\\t\\tfont-size: 10px;\\n\\t\\t\\t\\tcolor: #d7e0e5;\\n\\t\\t\\t\\ttext-transform: uppercase;\\n\\t\\t\\t\\tfont-weight: 600;\\n\\t\\t\\t\\tmargin-bottom: 19px;\\n\\t\\t\\t}\\n\\n\\t\\t\\t.grupoCaelum-column-list {\\n\\t\\t\\t\\tlist-style: none;\\n\\t\\t\\t}\\n\\n\\t\\t\\t.column-item-title {\\n\\t\\t\\t\\tfont-size: 11px;\\n\\t\\t\\t\\ttext-align: center;\\n\\t\\t\\t\\tvertical-align: middle;\\n\\t\\t\\t\\tdisplay: inline-block;\\n\\t\\t\\t\\tmargin-left: 6.5px;\\n\\t\\t\\t}\\n\\n\\t\\t.grupoCaelum-column:not(:first-child) {\\n\\t\\t\\tborder-left: solid 1px #e3e9ed;\\n\\t\\t}\\n\\n\\t\\t.grupoCaelum-title {\\n\\t\\t\\tdisplay: inline-block;\\n\\t\\t\\ttext-decoration: none;\\n\\t\\t\\tcolor: #657176;\\n\\t\\t\\tletter-spacing: normal;\\n\\t\\t\\tfont-size: 18px;\\n\\t\\t\\tmargin-top: 54px;\\n\\t\\t}\\n\\n\\t.column-item-logo {\\n\\t\\twidth: 30px;\\n\\t\\theight: 30px;\\n\\t\\tvertical-align: middle;\\n\\t\\tdisplay: inline-block;\\n\\t}\\n\\n\\t.column-item {\\n\\t\\tmargin-bottom: 17px;\\n\\t}\\n\\n\\t.column-item a{\\n\\t\\ttext-decoration: none;\\n\\t\\tcolor: #657176;\\n\\t}</style><footer\\nclass=\"caelum-footer\"><div\\nclass=\"grupoCaelum\"><div\\nclass=\"container\"><p\\nclass=\"grupoCaelum-title\">Grupo Alura</p><ul\\nclass=\"grupoCaelum-list\"><li\\nclass=\"grupoCaelum-column\"><p\\nclass=\"grupoCaelum-column-title\">Educa\\xc3\\xa7\\xc3\\xa3o</p><ul\\nclass=\"grupoCaelum-column-list\"><li\\nclass=\"column-item\">\\n<a\\ntarget=\"_blank\" href=\"https://www.caelum.com.br\"><svg\\nclass=\"column-item-logo\"><use\\nxlink:href=\"/svg,1580229429/caelumFooter#icon-caelumFooter-novo-logo-caelum\"><span\\nclass=\"column-item-title\">Caelum</span></svg>\\n</a></li><li\\nclass=\"column-item\">\\n<a\\ntarget=\"_blank\" href=\"https://www.casadocodigo.com.br\">\\n<svg\\nclass=\"column-item-logo\"><use\\nxlink:href=\"/svg,1580229429/caelumFooter#icon-caelumFooter-cdc\"><span\\nclass=\"column-item-title\">Casa do C\\xc3\\xb3digo</span></svg>\\n</a></li></ul></li><li\\nclass=\"grupoCaelum-column\"><p\\nclass=\"grupoCaelum-column-title\">Educa\\xc3\\xa7\\xc3\\xa3o Online</p><ul\\nclass=\"grupoCaelum-column-list\"><li\\nclass=\"column-item\">\\n<a\\ntarget=\"_blank\" href=\"https://www.alura.com.br\">\\n<svg\\nclass=\"column-item-logo\"><use\\nxlink:href=\"/svg,1580229429/caelumFooter#icon-caelumFooter-alura\"><span\\nclass=\"column-item-title\">Alura</span></svg>\\n</a></li><li\\nclass=\"column-item\">\\n<a\\ntarget=\"_blank\" href=\"https://www.alurastart.com.br\">\\n<svg\\nclass=\"column-item-logo\"><use\\nxlink:href=\"/svg,1580229429/caelumFooter#icon-caelumFooter-alurastart\"><span\\nclass=\"column-item-title\">Alura Start</span></svg>\\n</a></li><li\\nclass=\"column-item\">\\n<a\\ntarget=\"_blank\" href=\"https://www.musicdot.com.br\">\\n<svg\\nclass=\"column-item-logo\"><use\\nxlink:href=\"/svg,1580229429/caelumFooter#icon-caelumFooter-musicdot\"><span\\nclass=\"column-item-title\">MusicDot</span></svg>\\n</a></li><li\\nclass=\"column-item\">\\n<a\\ntarget=\"_blank\" href=\"https://www.aluralingua.com.br\">\\n<svg\\nclass=\"column-item-logo\"><use\\nxlink:href=\"/svg,1580229429/caelumFooter#icon-caelumFooter-aluralingua\"><span\\nclass=\"column-item-title\">Alura L\\xc3\\xadngua</span></svg>\\n</a></li></ul></li><li\\nclass=\"grupoCaelum-column\"><p\\nclass=\"grupoCaelum-column-title\">Comunidade</p><ul\\nclass=\"grupoCaelum-column-list\"><li\\nclass=\"column-item\">\\n<a\\ntarget=\"_blank\" href=\"https://hipsters.tech\">\\n<svg\\nclass=\"column-item-logo\"><use\\nxlink:href=\"/svg,1580229429/caelumFooter#icon-caelumFooter-hipsterstech\"><span\\nclass=\"column-item-title\">Hipsters ponto Tech</span></svg>\\n</a></li><li\\nclass=\"column-item\">\\n<a\\ntarget=\"_blank\" href=\"https://hipsters.jobs\">\\n<svg\\nclass=\"column-item-logo\"><use\\nxlink:href=\"/svg,1580229429/caelumFooter#icon-caelumFooter-hipstersjobs\"><span\\nclass=\"column-item-title\">Hipsters ponto Jobs</span></svg>\\n</a></li><li\\nclass=\"column-item\">\\n<a\\ntarget=\"_blank\" href=\"https://www.guj.com.br\">\\n<svg\\nclass=\"column-item-logo\"><use\\nxlink:href=\"/svg,1580229429/caelumFooter#icon-caelumFooter-guj\"><span\\nclass=\"column-item-title\">GUJ</span></svg>\\n</a></li></ul></li></ul></div></div></footer> <script>(function(){\\n    var match = location.pathname.match(/\\\\/(bf-|black-?friday\\\\/)([^\\\\/]+)/);\\n    if (match != null) {\\n        var links = document.querySelectorAll(\\'a[href]\\');\\n        for (var i = 0; i < links.length; i++) {\\n            var href = links[i].getAttribute(\\'href\\');\\n            if (href[0] === \\'/\\') {\\n                links[i].setAttribute(\\'href\\', \\'/bf-\\' + match[2] + href);\\n            }\\n        }\\n    }\\n})();</script> <script src=\"https://ajax.googleapis.com/ajax/libs/jquery/3.5.1/jquery.min.js\"></script> <script src=\"/assets/js/lib/svg4everybody.min.1570550707.js\" async></script> <script src=\"/assets/js/header/menu.1570550707.js\" async></script> <script src=\"/assets/js/header/busca.1570550707.js\" async></script> <script src=\"/assets/js/header/cursos.1570550707.js\" async></script> <script src=\"/assets/js/detect.1570550707.js\" async></script> <script src=\"/assets/js/video.1571773177.js\" async></script> <script src=\"/assets/js/Countdown.1599745598.js\" async></script> <script>var userId = (document.cookie.match(\\'alura.userId=([^;]+)\\')||[null,null])[1];\\n  window.ga=window.ga||function(){(ga.q=ga.q||[]).push(arguments)};ga.l=+new Date;\\n\\n  \\tga(\\'create\\', \\'UA-42101548-1\\', \\'alura.com.br\\', \\'tracker0\\', {\\'siteSpeedSampleRate\\': 50});\\n\\n\\tif (userId) ga(\\'tracker0.set\\', \\'userId\\', userId);\\n\\n\\tga(\\'tracker0.require\\', \\'displayfeatures\\');\\n\\tga(\\'tracker0.send\\', \\'pageview\\');\\n  \\tga(\\'create\\', \\'UA-42101548-9\\', \\'alura.com.br\\', \\'tracker1\\', {\\'siteSpeedSampleRate\\': 50});\\n\\n\\tif (userId) ga(\\'tracker1.set\\', \\'userId\\', userId);\\n\\n\\tga(\\'tracker1.require\\', \\'displayfeatures\\');\\n\\tga(\\'tracker1.send\\', \\'pageview\\');</script> <script async src=\\'//www.google-analytics.com/analytics.js\\'></script> <script src=\"/assets/js/footer/footer.1607371447.js\" async></script> <script src=\"//cdnjs.cloudflare.com/ajax/libs/highlight.js/10.4.0/highlight.min.js\"></script> <script>hljs.initHighlightingOnLoad();</script> <script src=\"https://static.criteo.net/js/ld/ld.js\" async></script> <script>function criteoPush(event, data){\\n\\t\\tvar isAluno = document.cookie.match(\\'alura.userId=([^;]+)\\') != null;\\n\\t\\tif(isAluno) return;\\n\\n\\t\\twindow.criteo_q = window.criteo_q || [];\\n\\t\\t\\n\\t\\tif (event == \\'viewHome\\')\\n\\t\\t\\tvar dt = { event: event}\\n\\t\\telse\\n\\t\\t\\tvar dt = { event: event, item: data};\\n\\n\\t\\twindow.criteo_q.push(\\n\\t\\t\\t{ event: \"setAccount\", account: 28037 },\\n\\t\\t\\t{ event: \"setEmail\", email: \"\" },\\n\\t\\t\\t{ event: \"setSiteType\", type: (/iPad/.test(navigator.userAgent) ? \"t\" : (/Mobile|iP(hone|od)|Android|BlackBerry|IEMobile/.test(navigator.userAgent) ? \"m\" : \"d\")) },\\n\\t\\t\\tdt\\n\\t\\t);\\t\\n\\t};\\n\\n\\t\\t\\tcriteoPush(\"viewHome\", \"\");\\n\\t\\t\\n\\t\\tvar criteoIdEl = document.querySelector(\\'[data-criteo-id]\\');\\n\\tif (criteoIdEl) {\\n        var products = JSON.parse(criteoIdEl.dataset.criteoId);\\n        var planos = document.querySelectorAll(\\'[data-payment-plan]\\');\\n\\n        planos.forEach(function (plano) {\\n            plano.addEventListener(\\'click\\', function (event) {\\n\\t\\t\\t\\tvar price = plano.dataset.paymentPlanPrice;\\n                var totalProducts = products.length;\\n\\t\\t\\t\\tvar productIds = \\'\\';\\n\\n                for(var i = 0; i < totalProducts; i++){\\n                    products[i][\\'price\\'] = price;\\n                    products[i][\\'quantity\\'] = 1;\\n\\t\\t\\t\\t\\tproductIds += \\',\\' + products[i][\\'id\\'];\\n                }\\n\\n\\t\\t\\t\\tproductIds = productIds.substr(1);\\n\\n\\t\\t\\t\\t// monta cookie pro Cart indicando quais cursos foram clicados\\n        \\t\\tdocument.cookie = \"criteo.productIds=\" + productIds + \"; path=/; domain=.alura.com.br\";\\n\\n\\t\\t\\t\\t// manda pro criteo\\n                criteoPush(\"viewBasket\", products);\\n            });\\n        });\\n\\n\\n\\t}</script> <script type=\"text/javascript\">_linkedin_partner_id = \"465017\";\\n\\t\\t\\twindow._linkedin_data_partner_ids = window._linkedin_data_partner_ids || [];\\n\\t\\t\\twindow._linkedin_data_partner_ids.push(_linkedin_partner_id);</script> <script type=\"text/javascript\">(function(){var s = document.getElementsByTagName(\"script\")[0];\\n\\t\\t\\tvar b = document.createElement(\"script\");\\n\\t\\t\\tb.type = \"text/javascript\";b.async = true;\\n\\t\\t\\tb.src = \"https://snap.licdn.com/li.lms-analytics/insight.min.js\";\\n\\t\\t\\ts.parentNode.insertBefore(b, s);})();</script> <noscript>\\n<img\\nheight=\"1\" width=\"1\" style=\"display:none;\" alt=\"\"\\nsrc=\"https://dc.ads.linkedin.com/collect/?pid=465017&fmt=gif\" />\\n</noscript></body></html>'\n"
     ]
    }
   ],
   "source": [
    "from urllib.request import Request, urlopen\n",
    "from urllib.error import URLError, HTTPError\n",
    "\n",
    "url = 'https://www.alura.com.br'\n",
    "headers = {'User-Agent': 'Mozilla/5.0 (Windows NT 10.0; Win64; x64) AppleWebKit/537.36 (KHTML, like Gecko) Chrome/76.0.3809.100 Safari/537.36'}\n",
    "\n",
    "try:\n",
    "    req = Request(url, headers = headers)\n",
    "    response = urlopen(req)\n",
    "    print(response.read())\n",
    "\n",
    "except HTTPError as e:\n",
    "    print(e.status, e.reason)\n",
    "\n",
    "except URLError as e:\n",
    "    print(e.reason)"
   ]
  },
  {
   "cell_type": "code",
   "execution_count": 10,
   "metadata": {},
   "outputs": [
    {
     "output_type": "execute_result",
     "data": {
      "text/plain": [
       "er-info\"><div\\nclass=\"footer-logos\">\\n<a\\nclass=\"footer-logos-home\" gtm-data=\\'footer_primeira_secao_050\\' href=\"/\">\\n<img\\nsrc=\"/assets/img/home/alura-logo.1570550707.svg\" alt=\"Alura\" class=\"footer-logo\">\\n</a></div><div\\nclass=\"footer-card-hotLinks social-desktop\"><h2 class=\"footer-card-hotLinks-titulo\">Nossas redes e apps</h2><div\\nclass=\"footer-card-hotLinks-info footer-card-redes\">\\n<a\\nhref=\"https://www.youtube.com/alura\" gtm-data=\\'footer_primeira_secao_065\\' class=\"footer-card-hotLinks-link\" target=\"_blank\" title=\"YouTube da Alura\">\\n<svg\\nclass=\"footer-card-hotLinks-icon footer-card-hotLinks-youtube\"><use\\nxlink:href=\"/svg,1606865286/footer#icon-footer-youtube\"/></svg>\\n<span>YouTube</span>\\n</a>\\n<a\\nhref=\"https://www.facebook.com/AluraCursosOnline/\" gtm-data=\\'footer_primeira_secao_066\\' class=\"footer-card-hotLinks-link\" target=\"_blank\" title=\"Facebook da Alura\">\\n<svg\\nclass=\"footer-card-hotLinks-icon footer-card-hotLinks-facebook\"><use\\nxlink:href=\"/svg,1606865286/footer#icon-footer-facebook\"/></svg>\\n<span>Facebook</span>\\n</a>\\n<a\\nhref=\"https://twitter.com/aluraonline\" gtm-data=\\'footer_primeira_secao_067\\' class=\"footer-card-hotLinks-link\" target=\"_blank\" title=\"Twitter da Alura\">\\n<svg\\nclass=\"footer-card-hotLinks-icon footer-card-hotLinks-twitter\"><use\\nxlink:href=\"/svg,1606865286/footer#icon-footer-twitter\"/></svg>\\n<span>Twitter</span>\\n</a>\\n<a\\nhref=\"https://instagram.com/aluraonline\" class=\"footer-card-hotLinks-link\" gtm-data=\\'footer_primeira_secao_073\\' target=\"_blank\" title=\"Instagram da Alura\">\\n<svg\\nclass=\"footer-card-hotLinks-icon footer-card-hotLinks-instagram\"><use\\nxlink:href=\"/svg,1606865286/footer#icon-footer-instagram\"/></svg>\\n<span>Instagram</span>\\n</a></div><div\\nclass=\"footer-card-hotLinks-info footer-card-mobile\">\\n<a\\nhref=\"https://play.google.com/store/apps/details?id=br.com.alura.mobi&hl=pt_BR\" gtm-data=\\'footer_primeira_secao_069\\' class=\"footer-card-hotLinks-link\" target=\"_blank\" title=\"Baixar na Google Play Store\">\\n<svg\\nclass=\"footer-card-hotLinks-icon footer-card-hotLinks-mobile\"><use\\nxlink:href=\"/svg,1606865286/footer#icon-footer-googleplay\"/></svg>\\n<span>Google Play Store</span>\\n</a>\\n<a\\nhref=\"https://itunes.apple.com/br/app/alura-cursos-online/id1225776635\" gtm-data=\\'footer_primeira_secao_070\\' class=\"footer-card-hotLinks-link\" target=\"_blank\" title=\"Baixar na AppStore\">\\n<svg\\nclass=\"footer-card-hotLinks-icon footer-card-hotLinks-mobile\"><use\\nxlink:href=\"/svg,1606865286/footer#icon-footer-appstore\"/></svg>\\n<span>AppStore</span>\\n</a></div></div></div></div></footer><section\\nclass=\"footer_categorias-formacoes\"><div\\nclass=\"container\"><div\\nclass=\"footer_categorias_wrapper\"><h2 class=\"footer_categorias_title\">Cursos</h2><div\\nclass=\"footer_categorias_categorias footer-navegue-lista-link\"><div\\nclass=\"footer_categorias_categoria\">\\n<a\\nhref=\"/cursos-online-mobile\">Cursos de Mobile</a><div\\nclass=\"footer_categorias_subcategorias\">\\n<a\\nhref=\"/cursos-online-mobile/multiplataforma\">\\nFlutter, React Native                                        |                                    </a>\\n<a\\nhref=\"/cursos-online-mobile/ios\">\\niOS e Swift                                        |                                    </a>\\n<a\\nhref=\"/cursos-online-mobile/android\">\\nAndroid, Kotlin                                        |                                    </a>\\n<a\\nhref=\"/cursos-online-mobile/jogos\">\\nJogos                                                                            </a></div></div><div\\nclass=\"footer_categorias_categoria\">\\n<a\\nhref=\"/cursos-online-programacao\">Cursos de Programa\\xc3\\xa7\\xc3\\xa3o</a><div\\nclass=\"footer_categorias_subcategorias\">\\n<a\\nhref=\"/cursos-online-programacao/logica\">\\nL\\xc3\\xb3gica                                        |                                    </a>\\n<a\\nhref=\"/cursos-online-programacao/python\">\\nPython                                        |                                    </a>\\n<a\\nhref=\"/cursos-online-programacao/php\">\\nPHP                                        |                                    </a>\\n<a\\nhref=\"/cursos-online-programacao/java\">\\nJava                                        |                                    </a>\\n<a\\nhref=\"/cursos-online-programacao/dotnet\">\\n.NET                                        |                                    </a>\\n<a\\nhref=\"/cursos-online-programacao/node-js\">\\nNode JS                                        |                                    </a>\\n<a\\nhref=\"/cursos-online-programacao/ruby\">\\nRuby & Rails                                        |                                    </a>\\n<a\\nhref=\"/cursos-online-programacao/linguagem-c\">\\nC                                        |                                    </a>\\n<a\\nhref=\"/cursos-online-programacao/computacao\">\\nComputa\\xc3\\xa7\\xc3\\xa3o                                        |                                    </a>\\n<a\\nhref=\"/cursos-online-programacao/jogos\">\\nJogos                                                                            </a></div></div><div\\nclass=\"footer_categorias_categoria\">\\n<a\\nhref=\"/cursos-online-front-end\">Cursos de Front-end</a><div\\nclass=\"footer_categorias_subcategorias\">\\n<a\\nhref=\"/cursos-online-front-end/front-end\">\\nHTML, CSS                                        |                                    </a>\\n<a\\nhref=\"/cursos-online-front-end/reactjs\">\\nReact                                        |                                    </a>\\n<a\\nhref=\"/cursos-online-front-end/angular\">\\nAngular                                        |                                    </a>\\n<a\\nhref=\"/cursos-online-front-end/javascript\">\\nJavaScript                                        |                                    </a>\\n<a\\nhref=\"/cursos-online-front-end/jquery\">\\njQuery                                                                            </a></div></div><div\\nclass=\"footer_categorias_categoria\">\\n<a\\nhref=\"/cursos-online-devops\">Cursos de DevOps</a><div\\nclass=\"footer_categorias_subcategorias\">\\n<a\\nhref=\"/cursos-online-devops/seguranca\">\\nSeguran\\xc3\\xa7a                                        |                                    </a>\\n<a\\nhref=\"/cursos-online-devops/cloud-computing\">\\nCloud                                        |                                    </a>\\n<a\\nhref=\"/cursos-online-devops/linux-comandos-e-processos\">\\nLinux                                        |                                    </a>\\n<a\\nhref=\"/cursos-online-devops/internet-das-coisas\">\\nIoT                                        |                                    </a>\\n<a\\nhref=\"/cursos-online-devops/redes\">\\nRedes                                                                            </a></div></div><div\\nclass=\"footer_categorias_categoria\">\\n<a\\nhref=\"/cursos-online-design-ux\">Cursos de Design & UX</a><div\\nclass=\"footer_categorias_subcategorias\">\\n<a\\nhref=\"/cursos-online-design-ux/wwww\">\\nPhotoshop e Illustrator                                        |                                    </a>\\n<a\\nhref=\"/cursos-online-design-ux/ux\">\\nUsabilidade e UX                                        |                                    </a>\\n<a\\nhref=\"/cursos-online-design-ux/video\">\\nV\\xc3\\xaddeo e Motion                                        |                                    </a>\\n<a\\nhref=\"/cursos-online-design-ux/3d\">\\n3D                                                                            </a></div></div><div\\nclass=\"footer_categorias_categoria\">\\n<a\\nhref=\"/cursos-online-marketing-digital\">Cursos de Marketing Digital</a><div\\nclass=\"footer_categorias_subcategorias\">\\n<a\\nhref=\"/cursos-online-marketing-digital/ads\">\\nAds                                        |                                    </a>\\n<a\\nhref=\"/cursos-online-marketing-digital/marketing-digital\">\\nMarketing                                        |                                    </a>\\n<a\\nhref=\"/cursos-online-marketing-digital/seo\">\\nSEO                                        |                                    </a>\\n<a\\nhref=\"/cursos-online-marketing-digital/e-commerce\">\\nE-commerce                                        |                                    </a>\\n<a\\nhref=\"/cursos-online-marketing-digital/social-media\">\\nSocial Media                                        |                                    </a>\\n<a\\nhref=\"/cursos-online-marketing-digital/youtube\">\\nYouTube                                                                            </a></div></div><div\\nclass=\"footer_categorias_categoria\">\\n<a\\nhref=\"/cursos-online-data-science\">Cursos de Data Science</a><div\\nclass=\"footer_categorias_subcategorias\">\\n<a\\nhref=\"/cursos-online-data-science/sql\">\\nSQL e Banco de Dados                                        |                                    </a>\\n<a\\nhref=\"/cursos-online-data-science/nosql\">\\nNoSQL                                        |                                    </a>\\n<a\\nhref=\"/cursos-online-data-science/data-science\">\\nData Science                                        |                                    </a>\\n<a\\nhref=\"/cursos-online-data-science/machine-learning\">\\nMachine Learning                                        |                                    </a>\\n<a\\nhref=\"/cursos-online-data-science/business-intelligence\">\\nBI                                        |                                    </a>\\n<a\\nhref=\"/cursos-online-data-science/estatistica\">\\nEstat\\xc3\\xadstica                                        |                                    </a>\\n<a\\nhref=\"/cursos-online-data-science/excel\">\\nExcel                                                                            </a></div></div><div\\nclass=\"footer_categorias_categoria\">\\n<a\\nhref=\"/cursos-online-inovacao-gestao\">Cursos de Inova\\xc3\\xa7\\xc3\\xa3o & Gest\\xc3\\xa3o</a><div\\nclass=\"footer_categorias_subcategorias\">\\n<a\\nhref=\"/cursos-online-inovacao-gestao/agilidade\">\\nM\\xc3\\xa9todos \\xc3\\x81geis                                        |                                    </a>\\n<a\\nhref=\"/cursos-online-inovacao-gestao/softskills-carreira\">\\nSoftskills                                        |                                    </a>\\n<a\\nhref=\"/cursos-online-inovacao-gestao/gestao-corporativa\">\\nLideran\\xc3\\xa7a e Gest\\xc3\\xa3o                                        |                                    </a>\\n<a\\nhref=\"/cursos-online-inovacao-gestao/startup-empreendedorismo\">\\nStartups                                        |                                    </a>\\n<a\\nhref=\"/cursos-online-inovacao-gestao/vendas\">\\nVendas                                                                            </a></div></div></div></div></div></section><style>@media not all and (min-width: 1000px){\\n\\t\\t.grupoCaelum{\\n\\t\\t\\tdisplay: none;\\n\\t\\t}\\n\\t}\\n\\n\\t.grupoCaelum{\\n\\t\\tbackground: #fff;\\n\\t\\theight: 240px;\\n\\t\\tborder-top: 1px solid #EBEBEE;\\n\\t}\\n\\n\\t.grupoCaelum .container{\\n\\t\\tdisplay: flex;\\n\\t\\tjustify-content: space-between;\\n\\t\\talign-items: flex-start;\\n\\t\\tpadding-top: 0;\\n\\t\\tpadding-bottom: 0;\\n\\t\\theight: 100%;\\n\\t}\\n\\n\\t\\t.grupoCaelum-list{\\n\\t\\t\\tdisplay: flex;\\n\\t\\t\\tlist-style: none;\\n\\t\\t\\twidth: 60%;\\n\\t\\t\\tjustify-content: space-between;\\n\\t\\t\\talign-items: flex-start;\\n\\t\\t\\tmargin-top: 20px;\\n\\t\\t}\\n\\n\\t\\t.grupoCaelum-title{\\n\\t\\t\\twidth: 20%;\\n\\t\\t}\\n\\n\\t\\t.grupoCaelum-column {\\n\\t\\t\\tdisplay: inline-block;\\n\\t\\t\\tpadding-left: 19px;\\n\\t\\t\\twidth: 240px;\\n\\t\\t\\theight: 210px;\\n\\t\\t\\tmin-width: 160px;\\n\\t\\t}\\n\\t\\t\\t.grupoCaelum-column-title {\\n\\t\\t\\t\\tfont-size: 10px;\\n\\t\\t\\t\\tcolor: #d7e0e5;\\n\\t\\t\\t\\ttext-transform: uppercase;\\n\\t\\t\\t\\tfont-weight: 600;\\n\\t\\t\\t\\tmargin-bottom: 19px;\\n\\t\\t\\t}\\n\\n\\t\\t\\t.grupoCaelum-column-list {\\n\\t\\t\\t\\tlist-style: none;\\n\\t\\t\\t}\\n\\n\\t\\t\\t.column-item-title {\\n\\t\\t\\t\\tfont-size: 11px;\\n\\t\\t\\t\\ttext-align: center;\\n\\t\\t\\t\\tvertical-align: middle;\\n\\t\\t\\t\\tdisplay: inline-block;\\n\\t\\t\\t\\tmargin-left: 6.5px;\\n\\t\\t\\t}\\n\\n\\t\\t.grupoCaelum-column:not(:first-child) {\\n\\t\\t\\tborder-left: solid 1px #e3e9ed;\\n\\t\\t}\\n\\n\\t\\t.grupoCaelum-title {\\n\\t\\t\\tdisplay: inline-block;\\n\\t\\t\\ttext-decoration: none;\\n\\t\\t\\tcolor: #657176;\\n\\t\\t\\tletter-spacing: normal;\\n\\t\\t\\tfont-size: 18px;\\n\\t\\t\\tmargin-top: 54px;\\n\\t\\t}\\n\\n\\t.column-item-logo {\\n\\t\\twidth: 30px;\\n\\t\\theight: 30px;\\n\\t\\tvertical-align: middle;\\n\\t\\tdisplay: inline-block;\\n\\t}\\n\\n\\t.column-item {\\n\\t\\tmargin-bottom: 17px;\\n\\t}\\n\\n\\t.column-item a{\\n\\t\\ttext-decoration: none;\\n\\t\\tcolor: #657176;\\n\\t}</style><footer\\nclass=\"caelum-footer\"><div\\nclass=\"grupoCaelum\"><div\\nclass=\"container\"><p\\nclass=\"grupoCaelum-title\">Grupo Alura</p><ul\\nclass=\"grupoCaelum-list\"><li\\nclass=\"grupoCaelum-column\"><p\\nclass=\"grupoCaelum-column-title\">Educa\\xc3\\xa7\\xc3\\xa3o</p><ul\\nclass=\"grupoCaelum-column-list\"><li\\nclass=\"column-item\">\\n<a\\ntarget=\"_blank\" href=\"https://www.caelum.com.br\"><svg\\nclass=\"column-item-logo\"><use\\nxlink:href=\"/svg,1580229429/caelumFooter#icon-caelumFooter-novo-logo-caelum\"><span\\nclass=\"column-item-title\">Caelum</span></svg>\\n</a></li><li\\nclass=\"column-item\">\\n<a\\ntarget=\"_blank\" href=\"https://www.casadocodigo.com.br\">\\n<svg\\nclass=\"column-item-logo\"><use\\nxlink:href=\"/svg,1580229429/caelumFooter#icon-caelumFooter-cdc\"><span\\nclass=\"column-item-title\">Casa do C\\xc3\\xb3digo</span></svg>\\n</a></li></ul></li><li\\nclass=\"grupoCaelum-column\"><p\\nclass=\"grupoCaelum-column-title\">Educa\\xc3\\xa7\\xc3\\xa3o Online</p><ul\\nclass=\"grupoCaelum-column-list\"><li\\nclass=\"column-item\">\\n<a\\ntarget=\"_blank\" href=\"https://www.alura.com.br\">\\n<svg\\nclass=\"column-item-logo\"><use\\nxlink:href=\"/svg,1580229429/caelumFooter#icon-caelumFooter-alura\"><span\\nclass=\"column-item-title\">Alura</span></svg>\\n</a></li><li\\nclass=\"column-item\">\\n<a\\ntarget=\"_blank\" href=\"https://www.alurastart.com.br\">\\n<svg\\nclass=\"column-item-logo\"><use\\nxlink:href=\"/svg,1580229429/caelumFooter#icon-caelumFooter-alurastart\"><span\\nclass=\"column-item-title\">Alura Start</span></svg>\\n</a></li><li\\nclass=\"column-item\">\\n<a\\ntarget=\"_blank\" href=\"https://www.musicdot.com.br\">\\n<svg\\nclass=\"column-item-logo\"><use\\nxlink:href=\"/svg,1580229429/caelumFooter#icon-caelumFooter-musicdot\"><span\\nclass=\"column-item-title\">MusicDot</span></svg>\\n</a></li><li\\nclass=\"column-item\">\\n<a\\ntarget=\"_blank\" href=\"https://www.aluralingua.com.br\">\\n<svg\\nclass=\"column-item-logo\"><use\\nxlink:href=\"/svg,1580229429/caelumFooter#icon-caelumFooter-aluralingua\"><span\\nclass=\"column-item-title\">Alura L\\xc3\\xadngua</span></svg>\\n</a></li></ul></li><li\\nclass=\"grupoCaelum-column\"><p\\nclass=\"grupoCaelum-column-title\">Comunidade</p><ul\\nclass=\"grupoCaelum-column-list\"><li\\nclass=\"column-item\">\\n<a\\ntarget=\"_blank\" href=\"https://hipsters.tech\">\\n<svg\\nclass=\"column-item-logo\"><use\\nxlink:href=\"/svg,1580229429/caelumFooter#icon-caelumFooter-hipsterstech\"><span\\nclass=\"column-item-title\">Hipsters ponto Tech</span></svg>\\n</a></li><li\\nclass=\"column-item\">\\n<a\\ntarget=\"_blank\" href=\"https://hipsters.jobs\">\\n<svg\\nclass=\"column-item-logo\"><use\\nxlink:href=\"/svg,1580229429/caelumFooter#icon-caelumFooter-hipstersjobs\"><span\\nclass=\"column-item-title\">Hipsters ponto Jobs</span></svg>\\n</a></li><li\\nclass=\"column-item\">\\n<a\\ntarget=\"_blank\" href=\"https://www.guj.com.br\">\\n<svg\\nclass=\"column-item-logo\"><use\\nxlink:href=\"/svg,1580229429/caelumFooter#icon-caelumFooter-guj\"><span\\nclass=\"column-item-title\">GUJ</span></svg>\\n</a></li></ul></li></ul></div></div></footer> <script>(function(){\\n    var match = location.pathname.match(/\\\\/(bf-|black-?friday\\\\/)([^\\\\/]+)/);\\n    if (match != null) {\\n        var links = document.querySelectorAll(\\'a[href]\\');\\n        for (var i = 0; i < links.length; i++) {\\n            var href = links[i].getAttribute(\\'href\\');\\n            if (href[0] === \\'/\\') {\\n                links[i].setAttribute(\\'href\\', \\'/bf-\\' + match[2] + href);\\n            }\\n        }\\n    }\\n})();</script> <script src=\"https://ajax.googleapis.com/ajax/libs/jquery/3.5.1/jquery.min.js\"></script> <script src=\"/assets/js/lib/svg4everybody.min.1570550707.js\" async></script> <script src=\"/assets/js/header/menu.1570550707.js\" async></script> <script src=\"/assets/js/header/busca.1570550707.js\" async></script> <script src=\"/assets/js/header/cursos.1570550707.js\" async></script> <script src=\"/assets/js/detect.1570550707.js\" async></script> <script src=\"/assets/js/video.1571773177.js\" async></script> <script src=\"/assets/js/Countdown.1599745598.js\" async></script> <script>var userId = (document.cookie.match(\\'alura.userId=([^;]+)\\')||[null,null])[1];\\n  window.ga=window.ga||function(){(ga.q=ga.q||[]).push(arguments)};ga.l=+new Date;\\n\\n  \\tga(\\'create\\', \\'UA-42101548-1\\', \\'alura.com.br\\', \\'tracker0\\', {\\'siteSpeedSampleRate\\': 50});\\n\\n\\tif (userId) ga(\\'tracker0.set\\', \\'userId\\', userId);\\n\\n\\tga(\\'tracker0.require\\', \\'displayfeatures\\');\\n\\tga(\\'tracker0.send\\', \\'pageview\\');\\n  \\tga(\\'create\\', \\'UA-42101548-9\\', \\'alura.com.br\\', \\'tracker1\\', {\\'siteSpeedSampleRate\\': 50});\\n\\n\\tif (userId) ga(\\'tracker1.set\\', \\'userId\\', userId);\\n\\n\\tga(\\'tracker1.require\\', \\'displayfeatures\\');\\n\\tga(\\'tracker1.send\\', \\'pageview\\');</script> <script async src=\\'//www.google-analytics.com/analytics.js\\'></script> <script src=\"/assets/js/footer/footer.1607371447.js\" async></script> <script src=\"//cdnjs.cloudflare.com/ajax/libs/highlight.js/10.4.0/highlight.min.js\"></script> <script>hljs.initHighlightingOnLoad();</script> <script src=\"https://static.criteo.net/js/ld/ld.js\" async></script> <script>function criteoPush(event, data){\\n\\t\\tvar isAluno = document.cookie.match(\\'alura.userId=([^;]+)\\') != null;\\n\\t\\tif(isAluno) return;\\n\\n\\t\\twindow.criteo_q = window.criteo_q || [];\\n\\t\\t\\n\\t\\tif (event == \\'viewHome\\')\\n\\t\\t\\tvar dt = { event: event}\\n\\t\\telse\\n\\t\\t\\tvar dt = { event: event, item: data};\\n\\n\\t\\twindow.criteo_q.push(\\n\\t\\t\\t{ event: \"setAccount\", account: 28037 },\\n\\t\\t\\t{ event: \"setEmail\", email: \"\" },\\n\\t\\t\\t{ event: \"setSiteType\", type: (/iPad/.test(navigator.userAgent) ? \"t\" : (/Mobile|iP(hone|od)|Android|BlackBerry|IEMobile/.test(navigator.userAgent) ? \"m\" : \"d\")) },\\n\\t\\t\\tdt\\n\\t\\t);\\t\\n\\t};\\n\\n\\t\\t\\tcriteoPush(\"viewHome\", \"\");\\n\\t\\t\\n\\t\\tvar criteoIdEl = document.querySelector(\\'[data-criteo-id]\\');\\n\\tif (criteoIdEl) {\\n        var products = JSON.parse(criteoIdEl.dataset.criteoId);\\n        var planos = document.querySelectorAll(\\'[data-payment-plan]\\');\\n\\n        planos.forEach(function (plano) {\\n            plano.addEventListener(\\'click\\', function (event) {\\n\\t\\t\\t\\tvar price = plano.dataset.paymentPlanPrice;\\n                var totalProducts = products.length;\\n\\t\\t\\t\\tvar productIds = \\'\\';\\n\\n                for(var i = 0; i < totalProducts; i++){\\n                    products[i][\\'price\\'] = price;\\n                    products[i][\\'quantity\\'] = 1;\\n\\t\\t\\t\\t\\tproductIds += \\',\\' + products[i][\\'id\\'];\\n                }\\n\\n\\t\\t\\t\\tproductIds = productIds.substr(1);\\n\\n\\t\\t\\t\\t// monta cookie pro Cart indicando quais cursos foram clicados\\n        \\t\\tdocument.cookie = \"criteo.productIds=\" + productIds + \"; path=/; domain=.alura.com.br\";\\n\\n\\t\\t\\t\\t// manda pro criteo\\n                criteoPush(\"viewBasket\", products);\\n            });\\n        });\\n\\n\\n\\t}</script> <script type=\"text/javascript\">_linkedin_partner_id = \"465017\";\\n\\t\\t\\twindow._linkedin_data_partner_ids = window._linkedin_data_partner_ids || [];\\n\\t\\t\\twindow._linkedin_data_partner_ids.push(_linkedin_partner_id);</script> <script type=\"text/javascript\">(function(){var s = document.getElementsByTagName(\"script\")[0];\\n\\t\\t\\tvar b = document.createElement(\"script\");\\n\\t\\t\\tb.type = \"text/javascript\";b.async = true;\\n\\t\\t\\tb.src = \"https://snap.licdn.com/li.lms-analytics/insight.min.js\";\\n\\t\\t\\ts.parentNode.insertBefore(b, s);})();</script> <noscript>\\n<img\\nheight=\"1\" width=\"1\" style=\"display:none;\" alt=\"\"\\nsrc=\"https://dc.ads.linkedin.com/collect/?pid=465017&fmt=gif\" />\\n</noscript></body></html>'"
      ]
     },
     "metadata": {},
     "execution_count": 10
    }
   ],
   "source": [
    "from urllib.request import Request, urlopen\n",
    "\n",
    "url = 'https://www.alura.com.br'\n",
    "headers = {'User-Agent': 'Chrome/76.0.3809.100'}\n",
    "\n",
    "req = Request(url, headers = headers)\n",
    "response = urlopen(req)\n",
    "response.read()"
   ]
  },
  {
   "cell_type": "code",
   "execution_count": 4,
   "metadata": {},
   "outputs": [
    {
     "output_type": "execute_result",
     "data": {
      "text/plain": [
       "bytes"
      ]
     },
     "metadata": {},
     "execution_count": 4
    }
   ],
   "source": [
    "type(html)"
   ]
  },
  {
   "cell_type": "code",
   "execution_count": 5,
   "metadata": {},
   "outputs": [],
   "source": [
    "html = html.decode('utf-8')"
   ]
  },
  {
   "cell_type": "code",
   "execution_count": 6,
   "metadata": {},
   "outputs": [
    {
     "output_type": "execute_result",
     "data": {
      "text/plain": [
       "str"
      ]
     },
     "metadata": {},
     "execution_count": 6
    }
   ],
   "source": [
    "type(html)"
   ]
  },
  {
   "cell_type": "markdown",
   "metadata": {},
   "source": [
    "### Eliminando os caracteres de tabulação, quebra de linha etc."
   ]
  },
  {
   "cell_type": "code",
   "execution_count": 7,
   "metadata": {},
   "outputs": [
    {
     "output_type": "execute_result",
     "data": {
      "text/plain": [
       "['<!DOCTYPE',\n",
       " 'html>',\n",
       " '<html',\n",
       " 'lang=\"pt-br\">',\n",
       " '<head>',\n",
       " '<meta',\n",
       " 'charset=\"utf-8\">',\n",
       " '<meta',\n",
       " 'name=\"viewport\"',\n",
       " 'content=\"width=device-width,',\n",
       " 'initial-scale=1,',\n",
       " 'shrink-to-fit=no\">',\n",
       " '<title>Alura',\n",
       " 'Motors</title>',\n",
       " '<link',\n",
       " 'rel=\"stylesheet\"',\n",
       " 'href=\"https://maxcdn.bootstrapcdn.com/bootstrap/3.3.7/css/bootstrap.min.css\"',\n",
       " 'integrity=\"sha384-BVYiiSIFeK1dGmJRAkycuHAHRg32OmUcww7on3RYdg4Va+PmSTsz/K68vbdEjh4u\"',\n",
       " 'crossorigin=\"anonymous\">',\n",
       " '<link',\n",
       " 'rel=\"stylesheet\"',\n",
       " 'href=\"css/styles.css\"',\n",
       " 'media=\"all\">',\n",
       " '<script',\n",
       " 'src=\"https://code.jquery.com/jquery-1.12.4.js\"></script>',\n",
       " '<script',\n",
       " 'src=\"https://maxcdn.bootstrapcdn.com/bootstrap/3.3.7/js/bootstrap.min.js\"',\n",
       " 'integrity=\"sha384-Tc5IQib027qvyjSMfHjOMaLkfuWVxZxUPnCJA7l2mCWNIpG9mGCD8wGNIcPD7Txa\"',\n",
       " 'crossorigin=\"anonymous\"></script>',\n",
       " '<script',\n",
       " 'type=\"text/javascript\"',\n",
       " 'src=\"js/index.js\"></script>',\n",
       " '</head>',\n",
       " '<body',\n",
       " 'cz-shortcut-listen=\"true\">',\n",
       " '<noscript>You',\n",
       " 'need',\n",
       " 'to',\n",
       " 'enable',\n",
       " 'JavaScript',\n",
       " 'to',\n",
       " 'run',\n",
       " 'this',\n",
       " 'app.</noscript>',\n",
       " '<div',\n",
       " 'id=\"root\">',\n",
       " '<header>',\n",
       " '<nav',\n",
       " 'class=\"navbar',\n",
       " 'navbar-inverse\"',\n",
       " 'style=\"margin-bottom:',\n",
       " '0;\">',\n",
       " '<div',\n",
       " 'class=\"container\"',\n",
       " 'style=\"margin-bottom:',\n",
       " '-20px;\">',\n",
       " '<div',\n",
       " 'class=\"navbar\">',\n",
       " '<a',\n",
       " 'href=\"./index.php\"',\n",
       " 'class=\"navbar-brand\"',\n",
       " 'title=\"Alura',\n",
       " 'Motors\">',\n",
       " '<img',\n",
       " 'src=\"img/alura-logo.svg\"',\n",
       " 'class=\"d-inline-block',\n",
       " 'align-top\"',\n",
       " 'alt=\"Alura\">Motors',\n",
       " '</a>',\n",
       " '<ul',\n",
       " 'class=\"nav',\n",
       " 'navbar-nav\"',\n",
       " 'style=\"margin-top:',\n",
       " '35px;\">',\n",
       " '<li><a',\n",
       " 'href=\"./hello-world.php\">Hello',\n",
       " 'World</a></li>',\n",
       " '<li><a',\n",
       " 'href=\"./index.php\">Anúncios</a></li>',\n",
       " '</ul>',\n",
       " '</div>',\n",
       " '</div>',\n",
       " '</nav>',\n",
       " '</header>',\n",
       " '<div',\n",
       " 'class=\"container\">',\n",
       " '<h1',\n",
       " 'class=\"sub-header\">Curso',\n",
       " 'de',\n",
       " 'Web',\n",
       " 'Scraping</h1>',\n",
       " '<div',\n",
       " 'class=\"row\">',\n",
       " '<div',\n",
       " 'class=\"col-md-12\">',\n",
       " '<div',\n",
       " 'class=\"container\"',\n",
       " 'style=\"width:',\n",
       " '100%;\">',\n",
       " '<h1',\n",
       " 'id=\"hello-world\">Hello',\n",
       " 'World!!!</h1>',\n",
       " '<p',\n",
       " 'class=\"definition\"><b>Web',\n",
       " 'Scraping</b>',\n",
       " 'é',\n",
       " 'o',\n",
       " 'termo',\n",
       " 'utilizado',\n",
       " 'para',\n",
       " 'definir',\n",
       " 'a',\n",
       " 'prática',\n",
       " 'de',\n",
       " 'coletar',\n",
       " 'automaticamente',\n",
       " 'informações',\n",
       " 'na',\n",
       " 'Internet.',\n",
       " 'Isto',\n",
       " 'é',\n",
       " 'feito,',\n",
       " 'geralmente,',\n",
       " 'por',\n",
       " 'meio',\n",
       " 'de',\n",
       " 'programas',\n",
       " 'que',\n",
       " 'simulam',\n",
       " 'a',\n",
       " 'navegação',\n",
       " 'humana',\n",
       " 'na',\n",
       " 'Web.</p>',\n",
       " '</div>',\n",
       " '</div>',\n",
       " '</div>',\n",
       " '</div>',\n",
       " '<footer',\n",
       " 'id=\"footer\">',\n",
       " '<nav',\n",
       " 'class=\"navbar',\n",
       " 'navbar-inverse\">',\n",
       " '<div',\n",
       " 'class=\"container\"',\n",
       " 'style=\"margin-bottom:',\n",
       " '10px;\">',\n",
       " '<div',\n",
       " 'class=\"navbar\">',\n",
       " '<a',\n",
       " 'href=\"./index.php\"',\n",
       " 'class=\"navbar-brand\"',\n",
       " 'title=\"Alura',\n",
       " 'Motors\">',\n",
       " '<img',\n",
       " 'src=\"img/alura-logo.svg\"',\n",
       " 'class=\"d-inline-block',\n",
       " 'align-top\"',\n",
       " 'alt=\"Alura\">Motors',\n",
       " '</a>',\n",
       " '<p',\n",
       " 'style=\"color:',\n",
       " '#fff;',\n",
       " 'text-align:',\n",
       " 'center;',\n",
       " 'margin-top:',\n",
       " '40px;\">Aplicação',\n",
       " 'para',\n",
       " 'treinamento',\n",
       " 'de',\n",
       " 'web',\n",
       " 'scraping</p>',\n",
       " '</div>',\n",
       " '</div>',\n",
       " '</nav>',\n",
       " '</footer>',\n",
       " '</div>',\n",
       " '</body>',\n",
       " '</html>']"
      ]
     },
     "metadata": {},
     "execution_count": 7
    }
   ],
   "source": [
    "html.split()"
   ]
  },
  {
   "cell_type": "code",
   "execution_count": 8,
   "metadata": {
    "scrolled": true
   },
   "outputs": [
    {
     "output_type": "execute_result",
     "data": {
      "text/plain": [
       "'<!DOCTYPE html> <html lang=\"pt-br\"> <head> <meta charset=\"utf-8\"> <meta name=\"viewport\" content=\"width=device-width, initial-scale=1, shrink-to-fit=no\"> <title>Alura Motors</title> <link rel=\"stylesheet\" href=\"https://maxcdn.bootstrapcdn.com/bootstrap/3.3.7/css/bootstrap.min.css\" integrity=\"sha384-BVYiiSIFeK1dGmJRAkycuHAHRg32OmUcww7on3RYdg4Va+PmSTsz/K68vbdEjh4u\" crossorigin=\"anonymous\"> <link rel=\"stylesheet\" href=\"css/styles.css\" media=\"all\"> <script src=\"https://code.jquery.com/jquery-1.12.4.js\"></script> <script src=\"https://maxcdn.bootstrapcdn.com/bootstrap/3.3.7/js/bootstrap.min.js\" integrity=\"sha384-Tc5IQib027qvyjSMfHjOMaLkfuWVxZxUPnCJA7l2mCWNIpG9mGCD8wGNIcPD7Txa\" crossorigin=\"anonymous\"></script> <script type=\"text/javascript\" src=\"js/index.js\"></script> </head> <body cz-shortcut-listen=\"true\"> <noscript>You need to enable JavaScript to run this app.</noscript> <div id=\"root\"> <header> <nav class=\"navbar navbar-inverse\" style=\"margin-bottom: 0;\"> <div class=\"container\" style=\"margin-bottom: -20px;\"> <div class=\"navbar\"> <a href=\"./index.php\" class=\"navbar-brand\" title=\"Alura Motors\"> <img src=\"img/alura-logo.svg\" class=\"d-inline-block align-top\" alt=\"Alura\">Motors </a> <ul class=\"nav navbar-nav\" style=\"margin-top: 35px;\"> <li><a href=\"./hello-world.php\">Hello World</a></li> <li><a href=\"./index.php\">Anúncios</a></li> </ul> </div> </div> </nav> </header> <div class=\"container\"> <h1 class=\"sub-header\">Curso de Web Scraping</h1> <div class=\"row\"> <div class=\"col-md-12\"> <div class=\"container\" style=\"width: 100%;\"> <h1 id=\"hello-world\">Hello World!!!</h1> <p class=\"definition\"><b>Web Scraping</b> é o termo utilizado para definir a prática de coletar automaticamente informações na Internet. Isto é feito, geralmente, por meio de programas que simulam a navegação humana na Web.</p> </div> </div> </div> </div> <footer id=\"footer\"> <nav class=\"navbar navbar-inverse\"> <div class=\"container\" style=\"margin-bottom: 10px;\"> <div class=\"navbar\"> <a href=\"./index.php\" class=\"navbar-brand\" title=\"Alura Motors\"> <img src=\"img/alura-logo.svg\" class=\"d-inline-block align-top\" alt=\"Alura\">Motors </a> <p style=\"color: #fff; text-align: center; margin-top: 40px;\">Aplicação para treinamento de web scraping</p> </div> </div> </nav> </footer> </div> </body> </html>'"
      ]
     },
     "metadata": {},
     "execution_count": 8
    }
   ],
   "source": [
    "\" \".join(html.split())"
   ]
  },
  {
   "source": [
    "### Eliminando os espaços em branco entre as TAGS\n"
   ],
   "cell_type": "markdown",
   "metadata": {}
  },
  {
   "cell_type": "code",
   "execution_count": 9,
   "metadata": {
    "scrolled": true
   },
   "outputs": [
    {
     "output_type": "execute_result",
     "data": {
      "text/plain": [
       "'<!DOCTYPE html><html lang=\"pt-br\"><head><meta charset=\"utf-8\"><meta name=\"viewport\" content=\"width=device-width, initial-scale=1, shrink-to-fit=no\"><title>Alura Motors</title><link rel=\"stylesheet\" href=\"https://maxcdn.bootstrapcdn.com/bootstrap/3.3.7/css/bootstrap.min.css\" integrity=\"sha384-BVYiiSIFeK1dGmJRAkycuHAHRg32OmUcww7on3RYdg4Va+PmSTsz/K68vbdEjh4u\" crossorigin=\"anonymous\"><link rel=\"stylesheet\" href=\"css/styles.css\" media=\"all\"><script src=\"https://code.jquery.com/jquery-1.12.4.js\"></script><script src=\"https://maxcdn.bootstrapcdn.com/bootstrap/3.3.7/js/bootstrap.min.js\" integrity=\"sha384-Tc5IQib027qvyjSMfHjOMaLkfuWVxZxUPnCJA7l2mCWNIpG9mGCD8wGNIcPD7Txa\" crossorigin=\"anonymous\"></script><script type=\"text/javascript\" src=\"js/index.js\"></script></head><body cz-shortcut-listen=\"true\"><noscript>You need to enable JavaScript to run this app.</noscript><div id=\"root\"><header><nav class=\"navbar navbar-inverse\" style=\"margin-bottom: 0;\"><div class=\"container\" style=\"margin-bottom: -20px;\"><div class=\"navbar\"><a href=\"./index.php\" class=\"navbar-brand\" title=\"Alura Motors\"><img src=\"img/alura-logo.svg\" class=\"d-inline-block align-top\" alt=\"Alura\">Motors </a><ul class=\"nav navbar-nav\" style=\"margin-top: 35px;\"><li><a href=\"./hello-world.php\">Hello World</a></li><li><a href=\"./index.php\">Anúncios</a></li></ul></div></div></nav></header><div class=\"container\"><h1 class=\"sub-header\">Curso de Web Scraping</h1><div class=\"row\"><div class=\"col-md-12\"><div class=\"container\" style=\"width: 100%;\"><h1 id=\"hello-world\">Hello World!!!</h1><p class=\"definition\"><b>Web Scraping</b> é o termo utilizado para definir a prática de coletar automaticamente informações na Internet. Isto é feito, geralmente, por meio de programas que simulam a navegação humana na Web.</p></div></div></div></div><footer id=\"footer\"><nav class=\"navbar navbar-inverse\"><div class=\"container\" style=\"margin-bottom: 10px;\"><div class=\"navbar\"><a href=\"./index.php\" class=\"navbar-brand\" title=\"Alura Motors\"><img src=\"img/alura-logo.svg\" class=\"d-inline-block align-top\" alt=\"Alura\">Motors </a><p style=\"color: #fff; text-align: center; margin-top: 40px;\">Aplicação para treinamento de web scraping</p></div></div></nav></footer></div></body></html>'"
      ]
     },
     "metadata": {},
     "execution_count": 9
    }
   ],
   "source": [
    "\" \".join(html.split()).replace('> <', '><')"
   ]
  },
  {
   "source": [
    "### Função de tratamento de strings"
   ],
   "cell_type": "markdown",
   "metadata": {}
  },
  {
   "cell_type": "code",
   "execution_count": 10,
   "metadata": {},
   "outputs": [],
   "source": [
    "def trata_html(input):\n",
    "    return \" \".join(input.split()).replace('> <', '><')"
   ]
  },
  {
   "cell_type": "code",
   "execution_count": 11,
   "metadata": {
    "scrolled": true
   },
   "outputs": [
    {
     "output_type": "execute_result",
     "data": {
      "text/plain": [
       "'<!DOCTYPE html><html lang=\"pt-br\"><head><meta charset=\"utf-8\"><meta name=\"viewport\" content=\"width=device-width, initial-scale=1, shrink-to-fit=no\"><title>Alura Motors</title><link rel=\"stylesheet\" href=\"https://maxcdn.bootstrapcdn.com/bootstrap/3.3.7/css/bootstrap.min.css\" integrity=\"sha384-BVYiiSIFeK1dGmJRAkycuHAHRg32OmUcww7on3RYdg4Va+PmSTsz/K68vbdEjh4u\" crossorigin=\"anonymous\"><link rel=\"stylesheet\" href=\"css/styles.css\" media=\"all\"><script src=\"https://code.jquery.com/jquery-1.12.4.js\"></script><script src=\"https://maxcdn.bootstrapcdn.com/bootstrap/3.3.7/js/bootstrap.min.js\" integrity=\"sha384-Tc5IQib027qvyjSMfHjOMaLkfuWVxZxUPnCJA7l2mCWNIpG9mGCD8wGNIcPD7Txa\" crossorigin=\"anonymous\"></script><script type=\"text/javascript\" src=\"js/index.js\"></script></head><body cz-shortcut-listen=\"true\"><noscript>You need to enable JavaScript to run this app.</noscript><div id=\"root\"><header><nav class=\"navbar navbar-inverse\" style=\"margin-bottom: 0;\"><div class=\"container\" style=\"margin-bottom: -20px;\"><div class=\"navbar\"><a href=\"./index.php\" class=\"navbar-brand\" title=\"Alura Motors\"><img src=\"img/alura-logo.svg\" class=\"d-inline-block align-top\" alt=\"Alura\">Motors </a><ul class=\"nav navbar-nav\" style=\"margin-top: 35px;\"><li><a href=\"./hello-world.php\">Hello World</a></li><li><a href=\"./index.php\">Anúncios</a></li></ul></div></div></nav></header><div class=\"container\"><h1 class=\"sub-header\">Curso de Web Scraping</h1><div class=\"row\"><div class=\"col-md-12\"><div class=\"container\" style=\"width: 100%;\"><h1 id=\"hello-world\">Hello World!!!</h1><p class=\"definition\"><b>Web Scraping</b> é o termo utilizado para definir a prática de coletar automaticamente informações na Internet. Isto é feito, geralmente, por meio de programas que simulam a navegação humana na Web.</p></div></div></div></div><footer id=\"footer\"><nav class=\"navbar navbar-inverse\"><div class=\"container\" style=\"margin-bottom: 10px;\"><div class=\"navbar\"><a href=\"./index.php\" class=\"navbar-brand\" title=\"Alura Motors\"><img src=\"img/alura-logo.svg\" class=\"d-inline-block align-top\" alt=\"Alura\">Motors </a><p style=\"color: #fff; text-align: center; margin-top: 40px;\">Aplicação para treinamento de web scraping</p></div></div></nav></footer></div></body></html>'"
      ]
     },
     "metadata": {},
     "execution_count": 11
    }
   ],
   "source": [
    "html = trata_html(html)\n",
    "html"
   ]
  },
  {
   "cell_type": "code",
   "execution_count": null,
   "metadata": {},
   "outputs": [],
   "source": []
  }
 ],
 "metadata": {
  "colab": {
   "name": "Untitled12.ipynb",
   "provenance": [],
   "version": "0.3.2"
  },
  "kernelspec": {
   "name": "python3",
   "display_name": "Python 3.9.0 64-bit ('venv')",
   "metadata": {
    "interpreter": {
     "hash": "68402ca84857740a5c999604e4545eb13ee3739d6b3ea004b6e3a8f4a785fb65"
    }
   }
  },
  "language_info": {
   "codemirror_mode": {
    "name": "ipython",
    "version": 3
   },
   "file_extension": ".py",
   "mimetype": "text/x-python",
   "name": "python",
   "nbconvert_exporter": "python",
   "pygments_lexer": "ipython3",
   "version": "3.9.0-final"
  }
 },
 "nbformat": 4,
 "nbformat_minor": 4
}